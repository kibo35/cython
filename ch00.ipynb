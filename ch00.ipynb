{
 "cells": [
  {
   "cell_type": "markdown",
   "metadata": {},
   "source": [
    "Jupyter notebookでcythonを使う\n",
    "==\n",
    "http://qiita.com/kenmatsu4/items/7c08a85e41741e95b9ba"
   ]
  },
  {
   "cell_type": "markdown",
   "metadata": {},
   "source": [
    "Cython関数\n",
    "--"
   ]
  },
  {
   "cell_type": "code",
   "execution_count": 3,
   "metadata": {
    "collapsed": true
   },
   "outputs": [],
   "source": [
    "%%cython -n test_cython_code\n",
    "def fib(int n):\n",
    "    cdef int i\n",
    "    cdef double a=0.0, b=1.0\n",
    "\n",
    "    for i in range(n):\n",
    "        a, b = a+b, a\n",
    "    return a\n",
    "\n",
    "def primes(int kmax):\n",
    "    cdef int n, k, i\n",
    "    cdef int p[1000]\n",
    "    result = []\n",
    "\n",
    "    if kmax > 1000:\n",
    "        kmax = 1000\n",
    "\n",
    "    k = 0\n",
    "    n = 2\n",
    "    while k < kmax:\n",
    "        i = 0\n",
    "        while i < k and n % p[i] != 0:\n",
    "            i += 1\n",
    "\n",
    "        if i == k:\n",
    "            p[k] = n\n",
    "            k += 1\n",
    "            result.append(n)\n",
    "        n += 1\n",
    "    return result"
   ]
  },
  {
   "cell_type": "markdown",
   "metadata": {},
   "source": [
    "Python関数\n",
    "--"
   ]
  },
  {
   "cell_type": "code",
   "execution_count": 4,
   "metadata": {
    "collapsed": false
   },
   "outputs": [],
   "source": [
    "# 性能比較用　Python関数\n",
    "def pyfib(n):\n",
    "    a, b = 0.0, 1.0\n",
    "    for i in range(n):\n",
    "        a, b = a+b, a\n",
    "    return a\n",
    "\n",
    "def pyprimes(kmax):\n",
    "    p = np.zeros(1000)\n",
    "    result = []\n",
    "\n",
    "    # 最大個数は1000個\n",
    "    if kmax > 1000:\n",
    "        kmax = 1000\n",
    "\n",
    "    k = 0\n",
    "    n = 2\n",
    "    while k < kmax:\n",
    "        i = 0\n",
    "        while i < k and n % p[i] != 0:\n",
    "            i += 1\n",
    "\n",
    "        if i == k:\n",
    "            p[k] = n\n",
    "            k += 1\n",
    "            result.append(n)\n",
    "        n += 1\n",
    "    return result"
   ]
  },
  {
   "cell_type": "markdown",
   "metadata": {},
   "source": [
    "計算時間を比較\n",
    "--"
   ]
  },
  {
   "cell_type": "code",
   "execution_count": 5,
   "metadata": {
    "collapsed": false
   },
   "outputs": [
    {
     "name": "stdout",
     "output_type": "stream",
     "text": [
      "1000000 loops, best of 3: 1.03 µs per loop\n",
      "10000 loops, best of 3: 52.1 µs per loop\n"
     ]
    }
   ],
   "source": [
    "%timeit fib(1000)\n",
    "%timeit pyfib(1000)"
   ]
  },
  {
   "cell_type": "markdown",
   "metadata": {},
   "source": [
    "numpy.ndarryをつかったCython関数\n",
    "--"
   ]
  },
  {
   "cell_type": "code",
   "execution_count": 23,
   "metadata": {
    "collapsed": true
   },
   "outputs": [],
   "source": [
    "%%cython -n sample_calc \n",
    "cimport numpy as np\n",
    "\n",
    "cpdef np.ndarray[double] sample_calc(np.ndarray col_a, np.ndarray col_b, np.ndarray col_c):\n",
    "    # 各列の型チェック\n",
    "    assert (col_a.dtype == np.float and col_b.dtype == np.float and col_c.dtype == np.float)\n",
    "\n",
    "    # 各列のサイズが同じであることをチェック\n",
    "    cdef Py_ssize_t n = len(col_c)\n",
    "    assert (len(col_a) == len(col_b) == n)\n",
    "    cdef np.ndarray[double] res = np.empty(n)\n",
    "\n",
    "    # (a-b)/c という計算をする\n",
    "    for i in range(n):\n",
    "        res[i] = (col_a[i] - col_b[i])/col_c[i]\n",
    "    return res"
   ]
  },
  {
   "cell_type": "code",
   "execution_count": 24,
   "metadata": {
    "collapsed": false
   },
   "outputs": [
    {
     "name": "stdout",
     "output_type": "stream",
     "text": [
      "(100000, 3)\n",
      "          a         b         c\n",
      "0 -0.430603 -1.193928 -0.444299\n",
      "1  0.489412 -0.451557  0.585696\n",
      "2  1.177320 -0.965009  0.218278\n",
      "3 -0.866144 -0.323006  1.412919\n",
      "4 -0.712651 -1.362191 -1.705966\n"
     ]
    }
   ],
   "source": [
    "np.random.seed(71)\n",
    "n_data = 10**5\n",
    "X = pd.DataFrame(np.random.normal(size=3*n_data).reshape((n_data,3)), columns=[\"a\", \"b\", \"c\"])\n",
    "print(X.shape)\n",
    "print(X.head())"
   ]
  },
  {
   "cell_type": "code",
   "execution_count": 25,
   "metadata": {
    "collapsed": false
   },
   "outputs": [
    {
     "data": {
      "text/plain": [
       "array([-1.71804336,  1.60658332,  9.81468496, ..., -0.44683095,\n",
       "        0.46970409, -0.28352272])"
      ]
     },
     "execution_count": 25,
     "metadata": {},
     "output_type": "execute_result"
    }
   ],
   "source": [
    "sample_calc(X.a.values, X.b.values, X.c.values)"
   ]
  },
  {
   "cell_type": "code",
   "execution_count": 26,
   "metadata": {
    "collapsed": true
   },
   "outputs": [],
   "source": [
    "# 比較用\n",
    "def pysample_calc(col_a, col_b, col_c):\n",
    "    # 各列の型チェック\n",
    "    assert (col_a.dtype == np.float and col_b.dtype == np.float and col_c.dtype == np.float)\n",
    "\n",
    "    # 各列のサイズが同じであることをチェック\n",
    "    n = len(col_c)\n",
    "    assert (len(col_a) == len(col_b) == n)\n",
    "    res = np.empty(n)\n",
    "\n",
    "    # (a-b)/c という計算をする\n",
    "#     for i in range(n):\n",
    "#         res[i] = (col_a[i] - col_b[i])/col_c[i]\n",
    "    res = (col_a - col_b) / col_c\n",
    "    return res"
   ]
  },
  {
   "cell_type": "code",
   "execution_count": 27,
   "metadata": {
    "collapsed": false
   },
   "outputs": [
    {
     "name": "stdout",
     "output_type": "stream",
     "text": [
      "10 loops, best of 3: 22 ms per loop\n",
      "1000 loops, best of 3: 602 µs per loop\n"
     ]
    }
   ],
   "source": [
    "%timeit sample_calc(X.a.values, X.b.values, X.c.values)\n",
    "%timeit pysample_calc(X.a.values, X.b.values, X.c.values)"
   ]
  },
  {
   "cell_type": "code",
   "execution_count": null,
   "metadata": {
    "collapsed": true
   },
   "outputs": [],
   "source": []
  }
 ],
 "metadata": {
  "kernelspec": {
   "display_name": "Python 3",
   "language": "python",
   "name": "python3"
  },
  "language_info": {
   "codemirror_mode": {
    "name": "ipython",
    "version": 3
   },
   "file_extension": ".py",
   "mimetype": "text/x-python",
   "name": "python",
   "nbconvert_exporter": "python",
   "pygments_lexer": "ipython3",
   "version": "3.5.2"
  }
 },
 "nbformat": 4,
 "nbformat_minor": 0
}
